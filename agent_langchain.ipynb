{
  "nbformat": 4,
  "nbformat_minor": 0,
  "metadata": {
    "colab": {
      "provenance": [],
      "authorship_tag": "ABX9TyM0SzKkItejG+UkgWpLRSg0",
      "include_colab_link": true
    },
    "kernelspec": {
      "name": "python3",
      "display_name": "Python 3"
    },
    "language_info": {
      "name": "python"
    }
  },
  "cells": [
    {
      "cell_type": "markdown",
      "metadata": {
        "id": "view-in-github",
        "colab_type": "text"
      },
      "source": [
        "<a href=\"https://colab.research.google.com/github/beruscoder/gen-AI/blob/main/agent_langchain.ipynb\" target=\"_parent\"><img src=\"https://colab.research.google.com/assets/colab-badge.svg\" alt=\"Open In Colab\"/></a>"
      ]
    },
    {
      "cell_type": "code",
      "execution_count": 1,
      "metadata": {
        "id": "LTYG9TvKovMt"
      },
      "outputs": [],
      "source": [
        "import os\n",
        "os.environ[\"OPENAI_API_KEY\"] = \"\""
      ]
    },
    {
      "cell_type": "code",
      "source": [
        "!pip install -q langchain-openai langchain-community langchain-core requests duckduckgo-search"
      ],
      "metadata": {
        "colab": {
          "base_uri": "https://localhost:8080/"
        },
        "id": "gcJc3oudstV3",
        "outputId": "4f6c6d6c-aeb3-448d-973e-58af5140efeb"
      },
      "execution_count": 2,
      "outputs": [
        {
          "output_type": "stream",
          "name": "stdout",
          "text": [
            "\u001b[?25l   \u001b[90m━━━━━━━━━━━━━━━━━━━━━━━━━━━━━━━━━━━━━━━━\u001b[0m \u001b[32m0.0/65.2 kB\u001b[0m \u001b[31m?\u001b[0m eta \u001b[36m-:--:--\u001b[0m\r\u001b[2K   \u001b[90m━━━━━━━━━━━━━━━━━━━━━━━━━━━━━━━━━━━━━━━━\u001b[0m \u001b[32m65.2/65.2 kB\u001b[0m \u001b[31m3.2 MB/s\u001b[0m eta \u001b[36m0:00:00\u001b[0m\n",
            "\u001b[2K   \u001b[90m━━━━━━━━━━━━━━━━━━━━━━━━━━━━━━━━━━━━━━━━\u001b[0m \u001b[32m2.5/2.5 MB\u001b[0m \u001b[31m24.4 MB/s\u001b[0m eta \u001b[36m0:00:00\u001b[0m\n",
            "\u001b[2K   \u001b[90m━━━━━━━━━━━━━━━━━━━━━━━━━━━━━━━━━━━━━━━━\u001b[0m \u001b[32m438.1/438.1 kB\u001b[0m \u001b[31m14.6 MB/s\u001b[0m eta \u001b[36m0:00:00\u001b[0m\n",
            "\u001b[2K   \u001b[90m━━━━━━━━━━━━━━━━━━━━━━━━━━━━━━━━━━━━━━━━\u001b[0m \u001b[32m363.0/363.0 kB\u001b[0m \u001b[31m14.5 MB/s\u001b[0m eta \u001b[36m0:00:00\u001b[0m\n",
            "\u001b[2K   \u001b[90m━━━━━━━━━━━━━━━━━━━━━━━━━━━━━━━━━━━━━━━━\u001b[0m \u001b[32m3.3/3.3 MB\u001b[0m \u001b[31m31.5 MB/s\u001b[0m eta \u001b[36m0:00:00\u001b[0m\n",
            "\u001b[2K   \u001b[90m━━━━━━━━━━━━━━━━━━━━━━━━━━━━━━━━━━━━━━━━\u001b[0m \u001b[32m44.4/44.4 kB\u001b[0m \u001b[31m2.6 MB/s\u001b[0m eta \u001b[36m0:00:00\u001b[0m\n",
            "\u001b[2K   \u001b[90m━━━━━━━━━━━━━━━━━━━━━━━━━━━━━━━━━━━━━━━━\u001b[0m \u001b[32m50.9/50.9 kB\u001b[0m \u001b[31m3.2 MB/s\u001b[0m eta \u001b[36m0:00:00\u001b[0m\n",
            "\u001b[?25h"
          ]
        }
      ]
    },
    {
      "cell_type": "code",
      "source": [
        "from langchain_openai import ChatOpenAI\n",
        "from langchain_core.tools import tool\n",
        "import requests"
      ],
      "metadata": {
        "id": "yTRpa8PXBOWp"
      },
      "execution_count": 3,
      "outputs": []
    },
    {
      "cell_type": "code",
      "source": [
        "from langchain_community.tools import DuckDuckGoSearchRun\n",
        "\n",
        "search_tool = DuckDuckGoSearchRun()"
      ],
      "metadata": {
        "id": "gdodxBIZBRep"
      },
      "execution_count": 4,
      "outputs": []
    },
    {
      "cell_type": "code",
      "source": [
        "@tool\n",
        "def get_weather_data(city: str) -> str:\n",
        "  \"\"\"\n",
        "  This function fetches the current weather data for a given city\n",
        "  \"\"\"\n",
        "  url = f'https://api.weatherstack.com/current?access_key=4d1d8ae207a8c845a52df8a67bf3623e&query={city}'\n",
        "\n",
        "  response = requests.get(url)\n",
        "\n",
        "  return response.json()"
      ],
      "metadata": {
        "id": "gM1jQAviBU85"
      },
      "execution_count": 5,
      "outputs": []
    },
    {
      "cell_type": "code",
      "source": [
        "llm = ChatOpenAI()"
      ],
      "metadata": {
        "id": "kzaecDx-BY5l"
      },
      "execution_count": 6,
      "outputs": []
    },
    {
      "cell_type": "code",
      "source": [
        "from langchain.agents import create_react_agent, AgentExecutor\n",
        "from langchain import hub"
      ],
      "metadata": {
        "id": "zONAgRpoBcqZ"
      },
      "execution_count": 7,
      "outputs": []
    },
    {
      "cell_type": "code",
      "source": [
        "prompt = hub.pull(\"hwchase17/react\")"
      ],
      "metadata": {
        "colab": {
          "base_uri": "https://localhost:8080/"
        },
        "id": "RJjWRhrFBgZj",
        "outputId": "57fe1ac3-636d-4060-e72f-d079b207b8dd"
      },
      "execution_count": 8,
      "outputs": [
        {
          "output_type": "stream",
          "name": "stderr",
          "text": [
            "/usr/local/lib/python3.11/dist-packages/langsmith/client.py:272: LangSmithMissingAPIKeyWarning: API key must be provided when using hosted LangSmith API\n",
            "  warnings.warn(\n"
          ]
        }
      ]
    },
    {
      "cell_type": "code",
      "source": [
        "agent = create_react_agent(\n",
        "    llm=llm,\n",
        "    tools=[search_tool, get_weather_data],\n",
        "    prompt=prompt\n",
        ")"
      ],
      "metadata": {
        "id": "u1eBRTqsBm7C"
      },
      "execution_count": 9,
      "outputs": []
    },
    {
      "cell_type": "code",
      "source": [
        "agent_executor = AgentExecutor(\n",
        "    agent=agent,\n",
        "    tools=[search_tool, get_weather_data],\n",
        "    verbose=True\n",
        ")"
      ],
      "metadata": {
        "id": "e075xh5vBtZ9"
      },
      "execution_count": 10,
      "outputs": []
    },
    {
      "cell_type": "code",
      "source": [
        "response = agent_executor.invoke({\"input\": \"Find the capital of kerala, then find it's current weather condition\"})\n",
        "print(response)"
      ],
      "metadata": {
        "colab": {
          "base_uri": "https://localhost:8080/"
        },
        "id": "nZ9julcUBxCk",
        "outputId": "a2e8a73b-d5f3-4145-cc8b-fe7c746fca4c"
      },
      "execution_count": 11,
      "outputs": [
        {
          "output_type": "stream",
          "name": "stdout",
          "text": [
            "\n",
            "\n",
            "\u001b[1m> Entering new AgentExecutor chain...\u001b[0m\n",
            "\u001b[32;1m\u001b[1;3mWe need to first find the capital of Kerala and then obtain its current weather condition.\n",
            "Action: duckduckgo_search\n",
            "Action Input: \"capital of Kerala\"\u001b[0m\u001b[36;1m\u001b[1;3mThiruvananthapuram, city, capital of Kerala state, southwestern India. It is situated along the Arabian Sea with isolated hills on a coastal plain. Padmanabhaswamy Temple One of the richest temples in the world, holding valuables estimated to be worth about $22 billion, is the Padmanabhaswamy Temple in Thiruvananthapuram (Trivandrum), Kerala ... Learn 45 fascinating facts about Thiruvananthapuram, the capital city of Kerala in India, also known as Trivandrum. Discover its rich history, cultural heritage, natural beauty, and modern development. Apart from being the capital city of Kerala, Thiruvananthapuram is a vivid combination of new and old traditions and culture. The city is situated in the southwest coast of India and has stunning views, rich history, and an array of historical sites. Below are some amazing facts about the city that every traveler, history lover, or fun explorer ... Thiruvananthapuram. Thiruvananthapuram, also known as Trivandrum, is the capital city of Kerala, known for its rich cultural heritage, scenic beauty, and administrative significance.As the political and administrative center, it houses the Kerala Legislative Assembly, Secretariat, and High Court Bench.The city is home to prestigious educational and research institutions like IISER ... Thiruvananthapuram, the capital city of Kerala, is a city built on a series of seven hills that gradually descend to the sea. Formerly the seat of the Kings and Princes of Travancore, Thiruvananthapuram is rich in its culture and heritage. Even today this fast growing city reflects its royal past through its spectacular architecture and the ...\u001b[0m\u001b[32;1m\u001b[1;3mNow that I know the capital of Kerala is Thiruvananthapuram, I can find its current weather condition.\n",
            "Action: get_weather_data\n",
            "Action Input: Thiruvananthapuram\u001b[0m\u001b[33;1m\u001b[1;3m{'request': {'type': 'City', 'query': 'Thiruvananthapuram, India', 'language': 'en', 'unit': 'm'}, 'location': {'name': 'Thiruvananthapuram', 'country': 'India', 'region': 'Kerala', 'lat': '8.507', 'lon': '76.957', 'timezone_id': 'Asia/Kolkata', 'localtime': '2025-06-09 10:21', 'localtime_epoch': 1749464460, 'utc_offset': '5.50'}, 'current': {'observation_time': '04:51 AM', 'temperature': 30, 'weather_code': 116, 'weather_icons': ['https://cdn.worldweatheronline.com/images/wsymbols01_png_64/wsymbol_0002_sunny_intervals.png'], 'weather_descriptions': ['Partly cloudy'], 'astro': {'sunrise': '06:03 AM', 'sunset': '06:40 PM', 'moonrise': '05:06 PM', 'moonset': '04:10 AM', 'moon_phase': 'Waxing Gibbous', 'moon_illumination': 95}, 'air_quality': {'co': '373.7', 'no2': '12.025', 'o3': '45', 'so2': '6.66', 'pm2_5': '23.495', 'pm10': '48.84', 'us-epa-index': '2', 'gb-defra-index': '2'}, 'wind_speed': 17, 'wind_degree': 318, 'wind_dir': 'NW', 'pressure': 1010, 'precip': 0, 'humidity': 75, 'cloudcover': 50, 'feelslike': 35, 'uv_index': 8, 'visibility': 6, 'is_day': 'yes'}}\u001b[0m\u001b[32;1m\u001b[1;3mThe current weather condition in Thiruvananthapuram is partly cloudy with a temperature of 30°C. The humidity is at 75% with a wind speed of 17 km/h coming from the northwest.\n",
            "Final Answer: The capital of Kerala is Thiruvananthapuram and its current weather condition is partly cloudy with a temperature of 30°C.\u001b[0m\n",
            "\n",
            "\u001b[1m> Finished chain.\u001b[0m\n",
            "{'input': \"Find the capital of kerala, then find it's current weather condition\", 'output': 'The capital of Kerala is Thiruvananthapuram and its current weather condition is partly cloudy with a temperature of 30°C.'}\n"
          ]
        }
      ]
    },
    {
      "cell_type": "code",
      "source": [
        "response['output']"
      ],
      "metadata": {
        "colab": {
          "base_uri": "https://localhost:8080/",
          "height": 36
        },
        "id": "82_ABpVXB5Eu",
        "outputId": "4e469a01-8f21-412b-dc34-8ec7adb79d3a"
      },
      "execution_count": 12,
      "outputs": [
        {
          "output_type": "execute_result",
          "data": {
            "text/plain": [
              "'The capital of Kerala is Thiruvananthapuram and its current weather condition is partly cloudy with a temperature of 30°C.'"
            ],
            "application/vnd.google.colaboratory.intrinsic+json": {
              "type": "string"
            }
          },
          "metadata": {},
          "execution_count": 12
        }
      ]
    }
  ]
}